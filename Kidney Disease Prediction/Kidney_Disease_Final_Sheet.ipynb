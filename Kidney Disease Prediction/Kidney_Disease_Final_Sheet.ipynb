{
 "cells": [
  {
   "cell_type": "markdown",
   "metadata": {
    "id": "Tg9qq4R0lfqA"
   },
   "source": [
    "# Analysis and Prediction of Chronic Kidney Disease using Machine Learning Classification approaches"
   ]
  },
  {
   "cell_type": "markdown",
   "metadata": {
    "id": "1T82_QfWlTWN"
   },
   "source": [
    "## Importing the libraries"
   ]
  },
  {
   "cell_type": "code",
   "execution_count": 1,
   "metadata": {
    "id": "X8A8DR0hw7yW"
   },
   "outputs": [],
   "source": [
    "import numpy as np\n",
    "import matplotlib.pyplot as plt\n",
    "import pandas as pd\n",
    "import seaborn as sns\n",
    "from sklearn.metrics import accuracy_score, precision_score, f1_score, log_loss, confusion_matrix\n",
    "from sklearn.ensemble import RandomForestClassifier, AdaBoostClassifier, GradientBoostingClassifier,ExtraTreesClassifier\n",
    "%matplotlib inline"
   ]
  },
  {
   "cell_type": "markdown",
   "metadata": {
    "id": "YKXQP0x8mPju"
   },
   "source": [
    "# Importing the dataset"
   ]
  },
  {
   "cell_type": "code",
   "execution_count": 2,
   "metadata": {
    "id": "xCwJ1ZGvxDk-"
   },
   "outputs": [],
   "source": [
    "df = pd.read_csv('kidney_disease.csv')"
   ]
  },
  {
   "cell_type": "code",
   "execution_count": 3,
   "metadata": {
    "colab": {
     "base_uri": "https://localhost:8080/",
     "height": 511
    },
    "id": "BfjqFTi71ES6",
    "outputId": "d8a7c5e3-adb6-4fff-ece4-6f886d98cf3e"
   },
   "outputs": [
    {
     "data": {
      "text/html": [
       "<div>\n",
       "<style scoped>\n",
       "    .dataframe tbody tr th:only-of-type {\n",
       "        vertical-align: middle;\n",
       "    }\n",
       "\n",
       "    .dataframe tbody tr th {\n",
       "        vertical-align: top;\n",
       "    }\n",
       "\n",
       "    .dataframe thead th {\n",
       "        text-align: right;\n",
       "    }\n",
       "</style>\n",
       "<table border=\"1\" class=\"dataframe\">\n",
       "  <thead>\n",
       "    <tr style=\"text-align: right;\">\n",
       "      <th></th>\n",
       "      <th>count</th>\n",
       "      <th>mean</th>\n",
       "      <th>std</th>\n",
       "      <th>min</th>\n",
       "      <th>25%</th>\n",
       "      <th>50%</th>\n",
       "      <th>75%</th>\n",
       "      <th>max</th>\n",
       "    </tr>\n",
       "  </thead>\n",
       "  <tbody>\n",
       "    <tr>\n",
       "      <th>id</th>\n",
       "      <td>400.0</td>\n",
       "      <td>199.500000</td>\n",
       "      <td>115.614301</td>\n",
       "      <td>0.000</td>\n",
       "      <td>99.75</td>\n",
       "      <td>199.50</td>\n",
       "      <td>299.25</td>\n",
       "      <td>399.000</td>\n",
       "    </tr>\n",
       "    <tr>\n",
       "      <th>age</th>\n",
       "      <td>391.0</td>\n",
       "      <td>51.483376</td>\n",
       "      <td>17.169714</td>\n",
       "      <td>2.000</td>\n",
       "      <td>42.00</td>\n",
       "      <td>55.00</td>\n",
       "      <td>64.50</td>\n",
       "      <td>90.000</td>\n",
       "    </tr>\n",
       "    <tr>\n",
       "      <th>bp</th>\n",
       "      <td>388.0</td>\n",
       "      <td>76.469072</td>\n",
       "      <td>13.683637</td>\n",
       "      <td>50.000</td>\n",
       "      <td>70.00</td>\n",
       "      <td>80.00</td>\n",
       "      <td>80.00</td>\n",
       "      <td>180.000</td>\n",
       "    </tr>\n",
       "    <tr>\n",
       "      <th>sg</th>\n",
       "      <td>353.0</td>\n",
       "      <td>1.017408</td>\n",
       "      <td>0.005717</td>\n",
       "      <td>1.005</td>\n",
       "      <td>1.01</td>\n",
       "      <td>1.02</td>\n",
       "      <td>1.02</td>\n",
       "      <td>1.025</td>\n",
       "    </tr>\n",
       "    <tr>\n",
       "      <th>al</th>\n",
       "      <td>354.0</td>\n",
       "      <td>1.016949</td>\n",
       "      <td>1.352679</td>\n",
       "      <td>0.000</td>\n",
       "      <td>0.00</td>\n",
       "      <td>0.00</td>\n",
       "      <td>2.00</td>\n",
       "      <td>5.000</td>\n",
       "    </tr>\n",
       "    <tr>\n",
       "      <th>su</th>\n",
       "      <td>351.0</td>\n",
       "      <td>0.450142</td>\n",
       "      <td>1.099191</td>\n",
       "      <td>0.000</td>\n",
       "      <td>0.00</td>\n",
       "      <td>0.00</td>\n",
       "      <td>0.00</td>\n",
       "      <td>5.000</td>\n",
       "    </tr>\n",
       "    <tr>\n",
       "      <th>bgr</th>\n",
       "      <td>356.0</td>\n",
       "      <td>148.036517</td>\n",
       "      <td>79.281714</td>\n",
       "      <td>22.000</td>\n",
       "      <td>99.00</td>\n",
       "      <td>121.00</td>\n",
       "      <td>163.00</td>\n",
       "      <td>490.000</td>\n",
       "    </tr>\n",
       "    <tr>\n",
       "      <th>bu</th>\n",
       "      <td>381.0</td>\n",
       "      <td>57.425722</td>\n",
       "      <td>50.503006</td>\n",
       "      <td>1.500</td>\n",
       "      <td>27.00</td>\n",
       "      <td>42.00</td>\n",
       "      <td>66.00</td>\n",
       "      <td>391.000</td>\n",
       "    </tr>\n",
       "    <tr>\n",
       "      <th>sc</th>\n",
       "      <td>383.0</td>\n",
       "      <td>3.072454</td>\n",
       "      <td>5.741126</td>\n",
       "      <td>0.400</td>\n",
       "      <td>0.90</td>\n",
       "      <td>1.30</td>\n",
       "      <td>2.80</td>\n",
       "      <td>76.000</td>\n",
       "    </tr>\n",
       "    <tr>\n",
       "      <th>sod</th>\n",
       "      <td>313.0</td>\n",
       "      <td>137.528754</td>\n",
       "      <td>10.408752</td>\n",
       "      <td>4.500</td>\n",
       "      <td>135.00</td>\n",
       "      <td>138.00</td>\n",
       "      <td>142.00</td>\n",
       "      <td>163.000</td>\n",
       "    </tr>\n",
       "    <tr>\n",
       "      <th>pot</th>\n",
       "      <td>312.0</td>\n",
       "      <td>4.627244</td>\n",
       "      <td>3.193904</td>\n",
       "      <td>2.500</td>\n",
       "      <td>3.80</td>\n",
       "      <td>4.40</td>\n",
       "      <td>4.90</td>\n",
       "      <td>47.000</td>\n",
       "    </tr>\n",
       "    <tr>\n",
       "      <th>hemo</th>\n",
       "      <td>348.0</td>\n",
       "      <td>12.526437</td>\n",
       "      <td>2.912587</td>\n",
       "      <td>3.100</td>\n",
       "      <td>10.30</td>\n",
       "      <td>12.65</td>\n",
       "      <td>15.00</td>\n",
       "      <td>17.800</td>\n",
       "    </tr>\n",
       "    <tr>\n",
       "      <th>pcv</th>\n",
       "      <td>329.0</td>\n",
       "      <td>38.884498</td>\n",
       "      <td>8.990105</td>\n",
       "      <td>9.000</td>\n",
       "      <td>32.00</td>\n",
       "      <td>40.00</td>\n",
       "      <td>45.00</td>\n",
       "      <td>54.000</td>\n",
       "    </tr>\n",
       "    <tr>\n",
       "      <th>wc</th>\n",
       "      <td>294.0</td>\n",
       "      <td>8406.122449</td>\n",
       "      <td>2944.474190</td>\n",
       "      <td>2200.000</td>\n",
       "      <td>6500.00</td>\n",
       "      <td>8000.00</td>\n",
       "      <td>9800.00</td>\n",
       "      <td>26400.000</td>\n",
       "    </tr>\n",
       "    <tr>\n",
       "      <th>rc</th>\n",
       "      <td>269.0</td>\n",
       "      <td>4.707435</td>\n",
       "      <td>1.025323</td>\n",
       "      <td>2.100</td>\n",
       "      <td>3.90</td>\n",
       "      <td>4.80</td>\n",
       "      <td>5.40</td>\n",
       "      <td>8.000</td>\n",
       "    </tr>\n",
       "  </tbody>\n",
       "</table>\n",
       "</div>"
      ],
      "text/plain": [
       "      count         mean          std       min      25%      50%      75%  \\\n",
       "id    400.0   199.500000   115.614301     0.000    99.75   199.50   299.25   \n",
       "age   391.0    51.483376    17.169714     2.000    42.00    55.00    64.50   \n",
       "bp    388.0    76.469072    13.683637    50.000    70.00    80.00    80.00   \n",
       "sg    353.0     1.017408     0.005717     1.005     1.01     1.02     1.02   \n",
       "al    354.0     1.016949     1.352679     0.000     0.00     0.00     2.00   \n",
       "su    351.0     0.450142     1.099191     0.000     0.00     0.00     0.00   \n",
       "bgr   356.0   148.036517    79.281714    22.000    99.00   121.00   163.00   \n",
       "bu    381.0    57.425722    50.503006     1.500    27.00    42.00    66.00   \n",
       "sc    383.0     3.072454     5.741126     0.400     0.90     1.30     2.80   \n",
       "sod   313.0   137.528754    10.408752     4.500   135.00   138.00   142.00   \n",
       "pot   312.0     4.627244     3.193904     2.500     3.80     4.40     4.90   \n",
       "hemo  348.0    12.526437     2.912587     3.100    10.30    12.65    15.00   \n",
       "pcv   329.0    38.884498     8.990105     9.000    32.00    40.00    45.00   \n",
       "wc    294.0  8406.122449  2944.474190  2200.000  6500.00  8000.00  9800.00   \n",
       "rc    269.0     4.707435     1.025323     2.100     3.90     4.80     5.40   \n",
       "\n",
       "            max  \n",
       "id      399.000  \n",
       "age      90.000  \n",
       "bp      180.000  \n",
       "sg        1.025  \n",
       "al        5.000  \n",
       "su        5.000  \n",
       "bgr     490.000  \n",
       "bu      391.000  \n",
       "sc       76.000  \n",
       "sod     163.000  \n",
       "pot      47.000  \n",
       "hemo     17.800  \n",
       "pcv      54.000  \n",
       "wc    26400.000  \n",
       "rc        8.000  "
      ]
     },
     "execution_count": 3,
     "metadata": {},
     "output_type": "execute_result"
    }
   ],
   "source": [
    "df.describe().transpose()"
   ]
  },
  {
   "cell_type": "markdown",
   "metadata": {
    "id": "FULmhf4GmcDk"
   },
   "source": [
    "# Cleaning the Data"
   ]
  },
  {
   "cell_type": "code",
   "execution_count": 4,
   "metadata": {
    "colab": {
     "base_uri": "https://localhost:8080/"
    },
    "id": "0PeSATfDyqPK",
    "outputId": "2c93e011-027c-4cf7-fcbf-46eb3e0b85da"
   },
   "outputs": [
    {
     "data": {
      "text/plain": [
       "0    250\n",
       "1    150\n",
       "Name: class, dtype: int64"
      ]
     },
     "execution_count": 4,
     "metadata": {},
     "output_type": "execute_result"
    }
   ],
   "source": [
    "from sklearn.preprocessing import LabelEncoder, MinMaxScaler\n",
    "\n",
    "#cleaning of data for garbage values\n",
    "df.replace(to_replace = \"\t?\", value= np.nan, inplace= True)\n",
    "df.head()\n",
    "\n",
    "#using techniques like mean and mode to fill the missing values\n",
    "for column in df.columns:\n",
    "        if df[column].dtype == np.number:\n",
    "            #filled the missing values of numeric dataset with the mean of the column\n",
    "            df[column].fillna(df[column].mean(), inplace=True)\n",
    "        else:\n",
    "            #filled the missing values of string dataset with the mode of the column\n",
    "            df[column].fillna(df[column].value_counts().idxmax(), inplace=True)\n",
    "            #converting the string values into categorical values for evaluation through different models\n",
    "            df[column] = LabelEncoder().fit_transform(df[column])\n",
    "#renaming column classification to class\n",
    "df.rename(columns = {'classification':'class'},inplace = True)\n",
    "#removing the column id as it has no actual use in my project and is an extra column\n",
    "df.drop('id',axis=1,inplace=True)\n",
    "df.head()\n",
    "\n",
    "#furter cleaning of dataframe if any more NAN values are left\n",
    "df = df.dropna(axis=0)\n",
    "#gives the count of uniques values in the column class\n",
    "df['class'].value_counts()\n"
   ]
  },
  {
   "cell_type": "code",
   "execution_count": 5,
   "metadata": {
    "colab": {
     "base_uri": "https://localhost:8080/",
     "height": 819
    },
    "id": "A3u9E0851m2j",
    "outputId": "0fd5b58c-6c2b-41db-d47a-12a820b33aaf"
   },
   "outputs": [
    {
     "data": {
      "text/html": [
       "<div>\n",
       "<style scoped>\n",
       "    .dataframe tbody tr th:only-of-type {\n",
       "        vertical-align: middle;\n",
       "    }\n",
       "\n",
       "    .dataframe tbody tr th {\n",
       "        vertical-align: top;\n",
       "    }\n",
       "\n",
       "    .dataframe thead th {\n",
       "        text-align: right;\n",
       "    }\n",
       "</style>\n",
       "<table border=\"1\" class=\"dataframe\">\n",
       "  <thead>\n",
       "    <tr style=\"text-align: right;\">\n",
       "      <th></th>\n",
       "      <th>count</th>\n",
       "      <th>mean</th>\n",
       "      <th>std</th>\n",
       "      <th>min</th>\n",
       "      <th>25%</th>\n",
       "      <th>50%</th>\n",
       "      <th>75%</th>\n",
       "      <th>max</th>\n",
       "    </tr>\n",
       "  </thead>\n",
       "  <tbody>\n",
       "    <tr>\n",
       "      <th>age</th>\n",
       "      <td>400.0</td>\n",
       "      <td>51.483376</td>\n",
       "      <td>16.974966</td>\n",
       "      <td>2.000</td>\n",
       "      <td>42.000</td>\n",
       "      <td>54.000000</td>\n",
       "      <td>64.000000</td>\n",
       "      <td>90.000</td>\n",
       "    </tr>\n",
       "    <tr>\n",
       "      <th>bp</th>\n",
       "      <td>400.0</td>\n",
       "      <td>76.469072</td>\n",
       "      <td>13.476298</td>\n",
       "      <td>50.000</td>\n",
       "      <td>70.000</td>\n",
       "      <td>78.234536</td>\n",
       "      <td>80.000000</td>\n",
       "      <td>180.000</td>\n",
       "    </tr>\n",
       "    <tr>\n",
       "      <th>sg</th>\n",
       "      <td>400.0</td>\n",
       "      <td>1.017408</td>\n",
       "      <td>0.005369</td>\n",
       "      <td>1.005</td>\n",
       "      <td>1.015</td>\n",
       "      <td>1.017408</td>\n",
       "      <td>1.020000</td>\n",
       "      <td>1.025</td>\n",
       "    </tr>\n",
       "    <tr>\n",
       "      <th>al</th>\n",
       "      <td>400.0</td>\n",
       "      <td>1.016949</td>\n",
       "      <td>1.272318</td>\n",
       "      <td>0.000</td>\n",
       "      <td>0.000</td>\n",
       "      <td>1.000000</td>\n",
       "      <td>2.000000</td>\n",
       "      <td>5.000</td>\n",
       "    </tr>\n",
       "    <tr>\n",
       "      <th>su</th>\n",
       "      <td>400.0</td>\n",
       "      <td>0.450142</td>\n",
       "      <td>1.029487</td>\n",
       "      <td>0.000</td>\n",
       "      <td>0.000</td>\n",
       "      <td>0.000000</td>\n",
       "      <td>0.450142</td>\n",
       "      <td>5.000</td>\n",
       "    </tr>\n",
       "    <tr>\n",
       "      <th>bgr</th>\n",
       "      <td>400.0</td>\n",
       "      <td>148.036517</td>\n",
       "      <td>74.782634</td>\n",
       "      <td>22.000</td>\n",
       "      <td>101.000</td>\n",
       "      <td>126.000000</td>\n",
       "      <td>150.000000</td>\n",
       "      <td>490.000</td>\n",
       "    </tr>\n",
       "    <tr>\n",
       "      <th>bu</th>\n",
       "      <td>400.0</td>\n",
       "      <td>57.425722</td>\n",
       "      <td>49.285887</td>\n",
       "      <td>1.500</td>\n",
       "      <td>27.000</td>\n",
       "      <td>44.000000</td>\n",
       "      <td>61.750000</td>\n",
       "      <td>391.000</td>\n",
       "    </tr>\n",
       "    <tr>\n",
       "      <th>sc</th>\n",
       "      <td>400.0</td>\n",
       "      <td>3.072454</td>\n",
       "      <td>5.617490</td>\n",
       "      <td>0.400</td>\n",
       "      <td>0.900</td>\n",
       "      <td>1.400000</td>\n",
       "      <td>3.072454</td>\n",
       "      <td>76.000</td>\n",
       "    </tr>\n",
       "    <tr>\n",
       "      <th>sod</th>\n",
       "      <td>400.0</td>\n",
       "      <td>137.528754</td>\n",
       "      <td>9.204273</td>\n",
       "      <td>4.500</td>\n",
       "      <td>135.000</td>\n",
       "      <td>137.528754</td>\n",
       "      <td>141.000000</td>\n",
       "      <td>163.000</td>\n",
       "    </tr>\n",
       "    <tr>\n",
       "      <th>pot</th>\n",
       "      <td>400.0</td>\n",
       "      <td>4.627244</td>\n",
       "      <td>2.819783</td>\n",
       "      <td>2.500</td>\n",
       "      <td>4.000</td>\n",
       "      <td>4.627244</td>\n",
       "      <td>4.800000</td>\n",
       "      <td>47.000</td>\n",
       "    </tr>\n",
       "    <tr>\n",
       "      <th>hemo</th>\n",
       "      <td>400.0</td>\n",
       "      <td>12.526437</td>\n",
       "      <td>2.716171</td>\n",
       "      <td>3.100</td>\n",
       "      <td>10.875</td>\n",
       "      <td>12.526437</td>\n",
       "      <td>14.625000</td>\n",
       "      <td>17.800</td>\n",
       "    </tr>\n",
       "    <tr>\n",
       "      <th>pcv</th>\n",
       "      <td>400.0</td>\n",
       "      <td>38.884498</td>\n",
       "      <td>8.151081</td>\n",
       "      <td>9.000</td>\n",
       "      <td>34.000</td>\n",
       "      <td>38.884498</td>\n",
       "      <td>44.000000</td>\n",
       "      <td>54.000</td>\n",
       "    </tr>\n",
       "    <tr>\n",
       "      <th>wc</th>\n",
       "      <td>400.0</td>\n",
       "      <td>8406.122449</td>\n",
       "      <td>2523.219976</td>\n",
       "      <td>2200.000</td>\n",
       "      <td>6975.000</td>\n",
       "      <td>8406.122449</td>\n",
       "      <td>9400.000000</td>\n",
       "      <td>26400.000</td>\n",
       "    </tr>\n",
       "    <tr>\n",
       "      <th>rc</th>\n",
       "      <td>400.0</td>\n",
       "      <td>4.707435</td>\n",
       "      <td>0.840314</td>\n",
       "      <td>2.100</td>\n",
       "      <td>4.500</td>\n",
       "      <td>4.707435</td>\n",
       "      <td>5.100000</td>\n",
       "      <td>8.000</td>\n",
       "    </tr>\n",
       "    <tr>\n",
       "      <th>htn</th>\n",
       "      <td>400.0</td>\n",
       "      <td>0.367500</td>\n",
       "      <td>0.482728</td>\n",
       "      <td>0.000</td>\n",
       "      <td>0.000</td>\n",
       "      <td>0.000000</td>\n",
       "      <td>1.000000</td>\n",
       "      <td>1.000</td>\n",
       "    </tr>\n",
       "    <tr>\n",
       "      <th>dm</th>\n",
       "      <td>400.0</td>\n",
       "      <td>1.337500</td>\n",
       "      <td>0.478714</td>\n",
       "      <td>0.000</td>\n",
       "      <td>1.000</td>\n",
       "      <td>1.000000</td>\n",
       "      <td>2.000000</td>\n",
       "      <td>2.000</td>\n",
       "    </tr>\n",
       "    <tr>\n",
       "      <th>cad</th>\n",
       "      <td>400.0</td>\n",
       "      <td>1.080000</td>\n",
       "      <td>0.289499</td>\n",
       "      <td>0.000</td>\n",
       "      <td>1.000</td>\n",
       "      <td>1.000000</td>\n",
       "      <td>1.000000</td>\n",
       "      <td>2.000</td>\n",
       "    </tr>\n",
       "    <tr>\n",
       "      <th>appet</th>\n",
       "      <td>400.0</td>\n",
       "      <td>0.205000</td>\n",
       "      <td>0.404207</td>\n",
       "      <td>0.000</td>\n",
       "      <td>0.000</td>\n",
       "      <td>0.000000</td>\n",
       "      <td>0.000000</td>\n",
       "      <td>1.000</td>\n",
       "    </tr>\n",
       "    <tr>\n",
       "      <th>pe</th>\n",
       "      <td>400.0</td>\n",
       "      <td>0.190000</td>\n",
       "      <td>0.392792</td>\n",
       "      <td>0.000</td>\n",
       "      <td>0.000</td>\n",
       "      <td>0.000000</td>\n",
       "      <td>0.000000</td>\n",
       "      <td>1.000</td>\n",
       "    </tr>\n",
       "    <tr>\n",
       "      <th>rbc</th>\n",
       "      <td>400.0</td>\n",
       "      <td>0.882500</td>\n",
       "      <td>0.322418</td>\n",
       "      <td>0.000</td>\n",
       "      <td>1.000</td>\n",
       "      <td>1.000000</td>\n",
       "      <td>1.000000</td>\n",
       "      <td>1.000</td>\n",
       "    </tr>\n",
       "    <tr>\n",
       "      <th>pc</th>\n",
       "      <td>400.0</td>\n",
       "      <td>0.810000</td>\n",
       "      <td>0.392792</td>\n",
       "      <td>0.000</td>\n",
       "      <td>1.000</td>\n",
       "      <td>1.000000</td>\n",
       "      <td>1.000000</td>\n",
       "      <td>1.000</td>\n",
       "    </tr>\n",
       "    <tr>\n",
       "      <th>pcc</th>\n",
       "      <td>400.0</td>\n",
       "      <td>0.105000</td>\n",
       "      <td>0.306937</td>\n",
       "      <td>0.000</td>\n",
       "      <td>0.000</td>\n",
       "      <td>0.000000</td>\n",
       "      <td>0.000000</td>\n",
       "      <td>1.000</td>\n",
       "    </tr>\n",
       "    <tr>\n",
       "      <th>ba</th>\n",
       "      <td>400.0</td>\n",
       "      <td>0.055000</td>\n",
       "      <td>0.228266</td>\n",
       "      <td>0.000</td>\n",
       "      <td>0.000</td>\n",
       "      <td>0.000000</td>\n",
       "      <td>0.000000</td>\n",
       "      <td>1.000</td>\n",
       "    </tr>\n",
       "    <tr>\n",
       "      <th>ane</th>\n",
       "      <td>400.0</td>\n",
       "      <td>0.150000</td>\n",
       "      <td>0.357519</td>\n",
       "      <td>0.000</td>\n",
       "      <td>0.000</td>\n",
       "      <td>0.000000</td>\n",
       "      <td>0.000000</td>\n",
       "      <td>1.000</td>\n",
       "    </tr>\n",
       "    <tr>\n",
       "      <th>class</th>\n",
       "      <td>400.0</td>\n",
       "      <td>0.375000</td>\n",
       "      <td>0.484729</td>\n",
       "      <td>0.000</td>\n",
       "      <td>0.000</td>\n",
       "      <td>0.000000</td>\n",
       "      <td>1.000000</td>\n",
       "      <td>1.000</td>\n",
       "    </tr>\n",
       "  </tbody>\n",
       "</table>\n",
       "</div>"
      ],
      "text/plain": [
       "       count         mean          std       min       25%          50%  \\\n",
       "age    400.0    51.483376    16.974966     2.000    42.000    54.000000   \n",
       "bp     400.0    76.469072    13.476298    50.000    70.000    78.234536   \n",
       "sg     400.0     1.017408     0.005369     1.005     1.015     1.017408   \n",
       "al     400.0     1.016949     1.272318     0.000     0.000     1.000000   \n",
       "su     400.0     0.450142     1.029487     0.000     0.000     0.000000   \n",
       "bgr    400.0   148.036517    74.782634    22.000   101.000   126.000000   \n",
       "bu     400.0    57.425722    49.285887     1.500    27.000    44.000000   \n",
       "sc     400.0     3.072454     5.617490     0.400     0.900     1.400000   \n",
       "sod    400.0   137.528754     9.204273     4.500   135.000   137.528754   \n",
       "pot    400.0     4.627244     2.819783     2.500     4.000     4.627244   \n",
       "hemo   400.0    12.526437     2.716171     3.100    10.875    12.526437   \n",
       "pcv    400.0    38.884498     8.151081     9.000    34.000    38.884498   \n",
       "wc     400.0  8406.122449  2523.219976  2200.000  6975.000  8406.122449   \n",
       "rc     400.0     4.707435     0.840314     2.100     4.500     4.707435   \n",
       "htn    400.0     0.367500     0.482728     0.000     0.000     0.000000   \n",
       "dm     400.0     1.337500     0.478714     0.000     1.000     1.000000   \n",
       "cad    400.0     1.080000     0.289499     0.000     1.000     1.000000   \n",
       "appet  400.0     0.205000     0.404207     0.000     0.000     0.000000   \n",
       "pe     400.0     0.190000     0.392792     0.000     0.000     0.000000   \n",
       "rbc    400.0     0.882500     0.322418     0.000     1.000     1.000000   \n",
       "pc     400.0     0.810000     0.392792     0.000     1.000     1.000000   \n",
       "pcc    400.0     0.105000     0.306937     0.000     0.000     0.000000   \n",
       "ba     400.0     0.055000     0.228266     0.000     0.000     0.000000   \n",
       "ane    400.0     0.150000     0.357519     0.000     0.000     0.000000   \n",
       "class  400.0     0.375000     0.484729     0.000     0.000     0.000000   \n",
       "\n",
       "               75%        max  \n",
       "age      64.000000     90.000  \n",
       "bp       80.000000    180.000  \n",
       "sg        1.020000      1.025  \n",
       "al        2.000000      5.000  \n",
       "su        0.450142      5.000  \n",
       "bgr     150.000000    490.000  \n",
       "bu       61.750000    391.000  \n",
       "sc        3.072454     76.000  \n",
       "sod     141.000000    163.000  \n",
       "pot       4.800000     47.000  \n",
       "hemo     14.625000     17.800  \n",
       "pcv      44.000000     54.000  \n",
       "wc     9400.000000  26400.000  \n",
       "rc        5.100000      8.000  \n",
       "htn       1.000000      1.000  \n",
       "dm        2.000000      2.000  \n",
       "cad       1.000000      2.000  \n",
       "appet     0.000000      1.000  \n",
       "pe        0.000000      1.000  \n",
       "rbc       1.000000      1.000  \n",
       "pc        1.000000      1.000  \n",
       "pcc       0.000000      1.000  \n",
       "ba        0.000000      1.000  \n",
       "ane       0.000000      1.000  \n",
       "class     1.000000      1.000  "
      ]
     },
     "execution_count": 5,
     "metadata": {},
     "output_type": "execute_result"
    }
   ],
   "source": [
    "df.describe().transpose()"
   ]
  },
  {
   "cell_type": "code",
   "execution_count": 6,
   "metadata": {
    "id": "2c0_cVaJ3eH1"
   },
   "outputs": [],
   "source": [
    "X = df.iloc[:,0:24]\n",
    "#y is THE CLASSIFICATION COLUMN IT WILL BE USED LATER IN THE TEST_tRAIN_SPLIT\n",
    "y = df.iloc[:,-1] "
   ]
  },
  {
   "cell_type": "markdown",
   "metadata": {
    "id": "ERQrn7tQASYg"
   },
   "source": [
    "## Selecting Best Attributes For Classification"
   ]
  },
  {
   "cell_type": "code",
   "execution_count": 7,
   "metadata": {
    "colab": {
     "base_uri": "https://localhost:8080/",
     "height": 349
    },
    "id": "L-bYPyl_3rsO",
    "outputId": "7eb5d86b-9285-418d-ebb9-8265b585c913"
   },
   "outputs": [
    {
     "name": "stderr",
     "output_type": "stream",
     "text": [
      "C:\\ProgramData\\Anaconda3\\lib\\site-packages\\sklearn\\ensemble\\forest.py:246: FutureWarning: The default value of n_estimators will change from 10 in version 0.20 to 100 in 0.22.\n",
      "  \"10 in version 0.20 to 100 in 0.22.\", FutureWarning)\n"
     ]
    },
    {
     "name": "stdout",
     "output_type": "stream",
     "text": [
      "[0.00491075 0.00866865 0.14126703 0.06043585 0.00281527 0.02034735\n",
      " 0.00748745 0.01816587 0.0238375  0.00524725 0.15201888 0.03180224\n",
      " 0.0046756  0.11237831 0.20504643 0.05237518 0.00576525 0.05222028\n",
      " 0.00519996 0.02733184 0.04249823 0.0024336  0.00542342 0.00764784]\n"
     ]
    },
    {
     "data": {
      "image/png": "[encoded data removed]",
      "text/plain": [
       "<Figure size 432x288 with 1 Axes>"
      ]
     },
     "metadata": {
      "needs_background": "light"
     },
     "output_type": "display_data"
    },
    {
     "name": "stdout",
     "output_type": "stream",
     "text": [
      "Index(['htn', 'hemo', 'sg', 'rc', 'al', 'dm'], dtype='object')\n"
     ]
    }
   ],
   "source": [
    "from sklearn.ensemble import ExtraTreesClassifier\n",
    "#the below code is used to find the best attributes out of the 24.\n",
    "model = ExtraTreesClassifier()\n",
    "model.fit(X,y)\n",
    "print(model.feature_importances_)\n",
    "feat_importances = pd.Series(model.feature_importances_, index=X.columns)\n",
    "#THIS LINE I HAVE STORED THE TOP 6 VALUES INTO x SO WHENEVR YOU WANT TO CHANGE THE NUMBER OF ATTRIBUTES AND TEST JUST CHANGE THE NUMBER\n",
    "x = feat_importances.nlargest(6).keys()\n",
    "feat_importances.nlargest(25).plot(kind='barh')\n",
    "plt.show()\n",
    "print (x)"
   ]
  },
  {
   "cell_type": "code",
   "execution_count": 8,
   "metadata": {
    "colab": {
     "base_uri": "https://localhost:8080/",
     "height": 271
    },
    "id": "2MYRI6eD3mHg",
    "outputId": "f6be16c1-0cbb-4f1b-c6b0-672c63ed773c"
   },
   "outputs": [
    {
     "data": {
      "image/png": "[encoded data removed]",
      "text/plain": [
       "<Figure size 432x288 with 1 Axes>"
      ]
     },
     "metadata": {
      "needs_background": "light"
     },
     "output_type": "display_data"
    }
   ],
   "source": [
    "df['al']=df['al'].round(decimals=0)\n",
    "Albumin = df['al']\n",
    "data = Albumin.value_counts()\n",
    "Albumin.value_counts().plot(kind='bar');\n",
    "#sns.distplot(Albumin, hist=False, kde=True, \n",
    " #            bins=int(180/5), color = 'darkblue', \n",
    "  #           hist_kws={'edgecolor':'black'},\n",
    "   #          kde_kws={'shade': True, 'linewidth': 2})"
   ]
  },
  {
   "cell_type": "code",
   "execution_count": 9,
   "metadata": {
    "colab": {
     "base_uri": "https://localhost:8080/",
     "height": 262
    },
    "id": "D77Lithc3s6X",
    "outputId": "69326bb3-db43-40d1-9d4d-b74832822044"
   },
   "outputs": [
    {
     "data": {
      "image/png": "[encoded data removed]",
      "text/plain": [
       "<Figure size 432x288 with 1 Axes>"
      ]
     },
     "metadata": {
      "needs_background": "light"
     },
     "output_type": "display_data"
    }
   ],
   "source": [
    "df['dm'] = df['dm'].replace([0,1,2],[0,0,1])\n",
    "Diabetes = df['dm']\n",
    "data = Diabetes.value_counts()\n",
    "Diabetes.value_counts().plot(kind='bar');"
   ]
  },
  {
   "cell_type": "code",
   "execution_count": 10,
   "metadata": {
    "colab": {
     "base_uri": "https://localhost:8080/",
     "height": 284
    },
    "id": "vPL2575X4GCE",
    "outputId": "824100a6-d44d-4ddf-d21b-159836193358"
   },
   "outputs": [
    {
     "data": {
      "image/png": "[encoded data removed]",
      "text/plain": [
       "<Figure size 432x288 with 1 Axes>"
      ]
     },
     "metadata": {
      "needs_background": "light"
     },
     "output_type": "display_data"
    }
   ],
   "source": [
    "df['sg']=df['sg'].round(decimals=3)\n",
    "SpecificG = df['sg']\n",
    "data = SpecificG.value_counts()\n",
    "SpecificG.value_counts().plot(kind='bar');"
   ]
  },
  {
   "cell_type": "code",
   "execution_count": 11,
   "metadata": {
    "colab": {
     "base_uri": "https://localhost:8080/",
     "height": 262
    },
    "id": "ryfK5TK04J17",
    "outputId": "cd06c5de-3178-4117-ae17-54ecf7b4da8a"
   },
   "outputs": [
    {
     "data": {
      "image/png": "[encoded data removed]",
      "text/plain": [
       "<Figure size 432x288 with 1 Axes>"
      ]
     },
     "metadata": {
      "needs_background": "light"
     },
     "output_type": "display_data"
    }
   ],
   "source": [
    "Hypertenion = df['htn']\n",
    "data = Hypertenion.value_counts()\n",
    "Hypertenion.value_counts().plot(kind='bar');"
   ]
  },
  {
   "cell_type": "code",
   "execution_count": 12,
   "metadata": {
    "colab": {
     "base_uri": "https://localhost:8080/",
     "height": 351
    },
    "id": "AAMZTHnA4OcJ",
    "outputId": "db2a6a17-a140-40e1-a885-fbac7ad5f54d"
   },
   "outputs": [
    {
     "data": {
      "text/plain": [
       "<matplotlib.axes._subplots.AxesSubplot at 0x1b366b58978>"
      ]
     },
     "execution_count": 12,
     "metadata": {},
     "output_type": "execute_result"
    },
    {
     "data": {
      "image/png": "[encoded data removed]",
      "text/plain": [
       "<Figure size 432x288 with 1 Axes>"
      ]
     },
     "metadata": {
      "needs_background": "light"
     },
     "output_type": "display_data"
    }
   ],
   "source": [
    "Haemoglobin = df['hemo']\n",
    "data = Haemoglobin.value_counts()\n",
    "#Haemoglobin.value_counts().plot(kind='bar');\n",
    "sns.distplot(Haemoglobin, hist=False, kde=True, \n",
    "             bins=int(180/5), color = 'darkblue', \n",
    "             hist_kws={'edgecolor':'black'},\n",
    "             kde_kws={'shade': True, 'linewidth': 2})"
   ]
  },
  {
   "cell_type": "code",
   "execution_count": 13,
   "metadata": {
    "colab": {
     "base_uri": "https://localhost:8080/",
     "height": 353
    },
    "id": "2DEvz2bo4T7b",
    "outputId": "c3938239-f8ab-41ee-8a07-1a879bb32127"
   },
   "outputs": [
    {
     "data": {
      "text/plain": [
       "<matplotlib.axes._subplots.AxesSubplot at 0x1b366bbc9e8>"
      ]
     },
     "execution_count": 13,
     "metadata": {},
     "output_type": "execute_result"
    },
    {
     "data": {
      "image/png": "[encoded data removed]",
      "text/plain": [
       "<Figure size 432x288 with 1 Axes>"
      ]
     },
     "metadata": {
      "needs_background": "light"
     },
     "output_type": "display_data"
    }
   ],
   "source": [
    "Age = df['age']\n",
    "data = Age.value_counts()\n",
    "#Age.value_counts().plot(kind='bar');\n",
    "sns.distplot(Age, hist=False, kde=True, \n",
    "             bins=int(180/5), color = 'darkblue', \n",
    "             hist_kws={'edgecolor':'black'},\n",
    "             kde_kws={'shade': True, 'linewidth': 2})"
   ]
  },
  {
   "cell_type": "code",
   "execution_count": 14,
   "metadata": {
    "colab": {
     "base_uri": "https://localhost:8080/",
     "height": 203
    },
    "id": "_wwQx6hN5PfE",
    "outputId": "6cb7589b-6f5c-4d4c-9dd6-289f22e493d1"
   },
   "outputs": [
    {
     "data": {
      "text/html": [
       "<div>\n",
       "<style scoped>\n",
       "    .dataframe tbody tr th:only-of-type {\n",
       "        vertical-align: middle;\n",
       "    }\n",
       "\n",
       "    .dataframe tbody tr th {\n",
       "        vertical-align: top;\n",
       "    }\n",
       "\n",
       "    .dataframe thead th {\n",
       "        text-align: right;\n",
       "    }\n",
       "</style>\n",
       "<table border=\"1\" class=\"dataframe\">\n",
       "  <thead>\n",
       "    <tr style=\"text-align: right;\">\n",
       "      <th></th>\n",
       "      <th>sg</th>\n",
       "      <th>al</th>\n",
       "      <th>hemo</th>\n",
       "      <th>rc</th>\n",
       "      <th>htn</th>\n",
       "      <th>dm</th>\n",
       "    </tr>\n",
       "  </thead>\n",
       "  <tbody>\n",
       "    <tr>\n",
       "      <th>0</th>\n",
       "      <td>1.020</td>\n",
       "      <td>1.0</td>\n",
       "      <td>15.4</td>\n",
       "      <td>5.200000</td>\n",
       "      <td>1</td>\n",
       "      <td>1</td>\n",
       "    </tr>\n",
       "    <tr>\n",
       "      <th>1</th>\n",
       "      <td>1.020</td>\n",
       "      <td>4.0</td>\n",
       "      <td>11.3</td>\n",
       "      <td>4.707435</td>\n",
       "      <td>0</td>\n",
       "      <td>0</td>\n",
       "    </tr>\n",
       "    <tr>\n",
       "      <th>2</th>\n",
       "      <td>1.010</td>\n",
       "      <td>2.0</td>\n",
       "      <td>9.6</td>\n",
       "      <td>4.707435</td>\n",
       "      <td>0</td>\n",
       "      <td>1</td>\n",
       "    </tr>\n",
       "    <tr>\n",
       "      <th>3</th>\n",
       "      <td>1.005</td>\n",
       "      <td>4.0</td>\n",
       "      <td>11.2</td>\n",
       "      <td>3.900000</td>\n",
       "      <td>1</td>\n",
       "      <td>0</td>\n",
       "    </tr>\n",
       "    <tr>\n",
       "      <th>4</th>\n",
       "      <td>1.010</td>\n",
       "      <td>2.0</td>\n",
       "      <td>11.6</td>\n",
       "      <td>4.600000</td>\n",
       "      <td>0</td>\n",
       "      <td>0</td>\n",
       "    </tr>\n",
       "  </tbody>\n",
       "</table>\n",
       "</div>"
      ],
      "text/plain": [
       "      sg   al  hemo        rc  htn  dm\n",
       "0  1.020  1.0  15.4  5.200000    1   1\n",
       "1  1.020  4.0  11.3  4.707435    0   0\n",
       "2  1.010  2.0   9.6  4.707435    0   1\n",
       "3  1.005  4.0  11.2  3.900000    1   0\n",
       "4  1.010  2.0  11.6  4.600000    0   0"
      ]
     },
     "execution_count": 14,
     "metadata": {},
     "output_type": "execute_result"
    }
   ],
   "source": [
    "#I HAVE DROPPED THE OTHER COLUMN WHICH WHERE NOT REQUIRED. IF THE VALUE OF x WILL BE 24 THAN ALL THE COLUMN WILL BE INCLUDED\n",
    "df = df.drop([col for col in df.columns if not col in x ], axis=1)\n",
    "df.head()"
   ]
  },
  {
   "cell_type": "code",
   "execution_count": 15,
   "metadata": {
    "id": "lkHFUXZ95bEx"
   },
   "outputs": [],
   "source": [
    "#THIS CONTAINS THE COLUMNS OF DF EXCLUDING CLASSIFICATION COLUMN\n",
    "X = df"
   ]
  },
  {
   "cell_type": "code",
   "execution_count": 16,
   "metadata": {
    "colab": {
     "base_uri": "https://localhost:8080/"
    },
    "id": "0cPwsFsD5ioq",
    "outputId": "a4108f4c-71f4-485e-e79d-617d997f92c5"
   },
   "outputs": [
    {
     "name": "stdout",
     "output_type": "stream",
     "text": [
      "     sg   al      hemo        rc  htn   dm\n",
      "0  0.75  0.2  0.836735  0.525424  1.0  1.0\n",
      "1  0.75  0.8  0.557823  0.441938  0.0  0.0\n",
      "2  0.25  0.4  0.442177  0.441938  0.0  1.0\n",
      "3  0.00  0.8  0.551020  0.305085  1.0  0.0\n",
      "4  0.25  0.4  0.578231  0.423729  0.0  0.0\n"
     ]
    },
    {
     "name": "stderr",
     "output_type": "stream",
     "text": [
      "C:\\ProgramData\\Anaconda3\\lib\\site-packages\\sklearn\\preprocessing\\data.py:334: DataConversionWarning: Data with input dtype int32, int64, float64 were all converted to float64 by MinMaxScaler.\n",
      "  return self.partial_fit(X, y)\n"
     ]
    }
   ],
   "source": [
    "#these lines of code are used for feature scaling using normalization.\n",
    "x_scaler = MinMaxScaler()\n",
    "x_scaler.fit(X)\n",
    "column_names = X.columns\n",
    "X[column_names] = x_scaler.transform(X)\n",
    "print(X.head())"
   ]
  },
  {
   "cell_type": "markdown",
   "metadata": {
    "id": "7xxQE9MSmymD"
   },
   "source": [
    "# Splitting the dataset into the Training set and Test set"
   ]
  },
  {
   "cell_type": "code",
   "execution_count": 17,
   "metadata": {
    "id": "VmxVySJR5vNt"
   },
   "outputs": [],
   "source": [
    "from sklearn.model_selection import train_test_split\n",
    "X_train, X_test, y_train, y_test = train_test_split(X, y, test_size=0.33, random_state=50)"
   ]
  },
  {
   "cell_type": "code",
   "execution_count": 18,
   "metadata": {},
   "outputs": [],
   "source": [
    "log_cols = [\"Classifier\", \"Accuracy\", \"Precision Score\", \"F1 Score\", 'Log Loss']\n",
    "log = pd.DataFrame(columns=log_cols)"
   ]
  },
  {
   "cell_type": "markdown",
   "metadata": {
    "id": "LtsiAwyVdPhv"
   },
   "source": [
    "# K-Nearest Neighbors"
   ]
  },
  {
   "cell_type": "code",
   "execution_count": 19,
   "metadata": {
    "colab": {
     "base_uri": "https://localhost:8080/"
    },
    "id": "aJSjdmJGeQNL",
    "outputId": "61e89136-751e-45fa-b3bd-dacb5a7e0fa7"
   },
   "outputs": [
    {
     "name": "stdout",
     "output_type": "stream",
     "text": [
      "KNeighborsClassifier\n",
      "****Results****\n",
      "Accuracy: 96.2121%\n",
      "precision_score: \n",
      " 0.8837209302325582\n",
      "f1_score: \n",
      " 0.9382716049382717\n",
      "confusion_matrix: \n",
      " [[89  5]\n",
      " [ 0 38]]\n",
      "log_loss: \n",
      " 1.3083172724371552\n"
     ]
    }
   ],
   "source": [
    "from sklearn.neighbors import KNeighborsClassifier\n",
    "classifier = KNeighborsClassifier(n_neighbors = 5, metric = 'minkowski', p = 2)\n",
    "classifier.fit(X_train, y_train)\n",
    "name = classifier.__class__.__name__\n",
    "print(name)\n",
    "try:\n",
    "    print('****Results****')\n",
    "    train_predictions = classifier.predict(X_test)\n",
    "    acc = accuracy_score(y_test, train_predictions)\n",
    "    print(\"Accuracy: {:.4%}\".format(acc))\n",
    "    print(\"precision_score: \\n\",precision_score(y_test, train_predictions))\n",
    "    print(\"f1_score: \\n\",f1_score(y_test, train_predictions))\n",
    "    print(\"confusion_matrix: \\n\",confusion_matrix(y_test, train_predictions))\n",
    "    print(\"log_loss: \\n\",log_loss(y_test, train_predictions))\n",
    "    log_entry = pd.DataFrame([[name, acc*100,precision_score(y_test, train_predictions), f1_score(y_test, train_predictions), log_loss( y_test, train_predictions)]], columns=log_cols)\n",
    "    log = log.append(log_entry)\n",
    "except Exception as e:\n",
    "    print (e)"
   ]
  },
  {
   "cell_type": "markdown",
   "metadata": {
    "id": "KRUufvQFghbY"
   },
   "source": [
    "# Decision Tree Classifier"
   ]
  },
  {
   "cell_type": "code",
   "execution_count": 20,
   "metadata": {
    "colab": {
     "base_uri": "https://localhost:8080/"
    },
    "id": "umAKOIG9glev",
    "outputId": "e558be5f-7080-4b1f-cb6a-e56515802b4b"
   },
   "outputs": [
    {
     "name": "stdout",
     "output_type": "stream",
     "text": [
      "DecisionTreeClassifier\n",
      "****Results****\n",
      "Accuracy: 96.9697%\n",
      "precision_score: \n",
      " 0.9047619047619048\n",
      "f1_score: \n",
      " 0.9500000000000001\n",
      "confusion_matrix: \n",
      " [[90  4]\n",
      " [ 0 38]]\n",
      "log_loss: \n",
      " 1.0466538179497245\n"
     ]
    }
   ],
   "source": [
    "from sklearn.tree import DecisionTreeClassifier\n",
    "classifier = DecisionTreeClassifier(criterion = 'entropy', random_state = 50)\n",
    "classifier.fit(X_train, y_train)\n",
    "name = classifier.__class__.__name__\n",
    "print(name)\n",
    "try:\n",
    "    print('****Results****')\n",
    "    train_predictions = classifier.predict(X_test)\n",
    "    acc = accuracy_score(y_test, train_predictions)\n",
    "    print(\"Accuracy: {:.4%}\".format(acc))\n",
    "    print(\"precision_score: \\n\",precision_score(y_test, train_predictions))\n",
    "    print(\"f1_score: \\n\",f1_score(y_test, train_predictions))\n",
    "    print(\"confusion_matrix: \\n\",confusion_matrix(y_test, train_predictions))\n",
    "    print(\"log_loss: \\n\",log_loss(y_test, train_predictions))\n",
    "    log_entry = pd.DataFrame([[name, acc*100,precision_score(y_test, train_predictions), f1_score(y_test, train_predictions), log_loss( y_test, train_predictions)]], columns=log_cols)\n",
    "    log = log.append(log_entry)\n",
    "except Exception as e:\n",
    "    print (e)\n"
   ]
  },
  {
   "cell_type": "markdown",
   "metadata": {
    "id": "q6kS-x26g_kz"
   },
   "source": [
    "# Random Forest Classifier"
   ]
  },
  {
   "cell_type": "code",
   "execution_count": 21,
   "metadata": {
    "colab": {
     "base_uri": "https://localhost:8080/"
    },
    "id": "snZmwPNrg_2_",
    "outputId": "af959817-3da8-48d3-95b5-6a626a966024"
   },
   "outputs": [
    {
     "name": "stdout",
     "output_type": "stream",
     "text": [
      "RandomForestClassifier\n",
      "****Results****\n",
      "Accuracy: 98.4848%\n",
      "precision_score: \n",
      " 0.95\n",
      "f1_score: \n",
      " 0.9743589743589743\n",
      "confusion_matrix: \n",
      " [[92  2]\n",
      " [ 0 38]]\n",
      "log_loss: \n",
      " 0.5233269089748628\n"
     ]
    }
   ],
   "source": [
    "from sklearn.ensemble import RandomForestClassifier\n",
    "classifier = RandomForestClassifier(n_estimators = 10, criterion = 'entropy', random_state = 50)\n",
    "classifier.fit(X_train, y_train)\n",
    "name = classifier.__class__.__name__\n",
    "print(name)\n",
    "try:\n",
    "    print('****Results****')\n",
    "    train_predictions = classifier.predict(X_test)\n",
    "    acc = accuracy_score(y_test, train_predictions)\n",
    "    print(\"Accuracy: {:.4%}\".format(acc))\n",
    "    print(\"precision_score: \\n\",precision_score(y_test, train_predictions))\n",
    "    print(\"f1_score: \\n\",f1_score(y_test, train_predictions))\n",
    "    print(\"confusion_matrix: \\n\",confusion_matrix(y_test, train_predictions))\n",
    "    print(\"log_loss: \\n\",log_loss(y_test, train_predictions))\n",
    "    log_entry = pd.DataFrame([[name, acc*100,precision_score(y_test, train_predictions), f1_score(y_test, train_predictions), log_loss( y_test, train_predictions)]], columns=log_cols)\n",
    "    log = log.append(log_entry)\n",
    "except Exception as e:\n",
    "    print (e)"
   ]
  },
  {
   "cell_type": "markdown",
   "metadata": {
    "id": "7gJablyd7uDH"
   },
   "source": [
    "# AdaBoost Classifier"
   ]
  },
  {
   "cell_type": "code",
   "execution_count": 22,
   "metadata": {
    "colab": {
     "base_uri": "https://localhost:8080/"
    },
    "id": "us-VoM5HKASh",
    "outputId": "b1c453cd-c876-4bde-896c-ae970a89df48"
   },
   "outputs": [
    {
     "name": "stdout",
     "output_type": "stream",
     "text": [
      "AdaBoostClassifier\n",
      "****Results****\n",
      "Accuracy: 98.4848%\n",
      "precision_score: \n",
      " 0.95\n",
      "f1_score: \n",
      " 0.9743589743589743\n",
      "confusion_matrix: \n",
      " [[92  2]\n",
      " [ 0 38]]\n",
      "log_loss: \n",
      " 0.5233269089748628\n"
     ]
    }
   ],
   "source": [
    "from sklearn.ensemble import AdaBoostClassifier\n",
    "classifier = AdaBoostClassifier(n_estimators = 10, random_state = 50)\n",
    "classifier.fit(X_train, y_train)\n",
    "name = classifier.__class__.__name__\n",
    "print(name)\n",
    "try:\n",
    "    print('****Results****')\n",
    "    train_predictions = classifier.predict(X_test)\n",
    "    acc = accuracy_score(y_test, train_predictions)\n",
    "    print(\"Accuracy: {:.4%}\".format(acc))\n",
    "    print(\"precision_score: \\n\",precision_score(y_test, train_predictions))\n",
    "    print(\"f1_score: \\n\",f1_score(y_test, train_predictions))\n",
    "    print(\"confusion_matrix: \\n\",confusion_matrix(y_test, train_predictions))\n",
    "    print(\"log_loss: \\n\",log_loss(y_test, train_predictions))\n",
    "    log_entry = pd.DataFrame([[name, acc*100,precision_score(y_test, train_predictions), f1_score(y_test, train_predictions), log_loss( y_test, train_predictions)]], columns=log_cols)\n",
    "    log = log.append(log_entry)\n",
    "except Exception as e:\n",
    "    print (e)"
   ]
  },
  {
   "cell_type": "markdown",
   "metadata": {
    "id": "rnVPTfsndB-z"
   },
   "source": [
    "# GaussianNB Classifier"
   ]
  },
  {
   "cell_type": "code",
   "execution_count": 23,
   "metadata": {
    "colab": {
     "base_uri": "https://localhost:8080/"
    },
    "id": "csCSz7wkdHls",
    "outputId": "449b9f4d-12a2-43e2-d2af-e72140f79726"
   },
   "outputs": [
    {
     "name": "stdout",
     "output_type": "stream",
     "text": [
      "GaussianNB\n",
      "****Results****\n",
      "Accuracy: 90.9091%\n",
      "precision_score: \n",
      " 0.76\n",
      "f1_score: \n",
      " 0.8636363636363636\n",
      "confusion_matrix: \n",
      " [[82 12]\n",
      " [ 0 38]]\n",
      "log_loss: \n",
      " 3.1399614538491716\n"
     ]
    }
   ],
   "source": [
    "from sklearn.naive_bayes import GaussianNB\n",
    "classifier = GaussianNB()\n",
    "classifier.fit(X_train, y_train)\n",
    "name = classifier.__class__.__name__\n",
    "print(name)\n",
    "try:\n",
    "    print('****Results****')\n",
    "    train_predictions = classifier.predict(X_test)\n",
    "    acc = accuracy_score(y_test, train_predictions)\n",
    "    print(\"Accuracy: {:.4%}\".format(acc))\n",
    "    print(\"precision_score: \\n\",precision_score(y_test, train_predictions))\n",
    "    print(\"f1_score: \\n\",f1_score(y_test, train_predictions))\n",
    "    print(\"confusion_matrix: \\n\",confusion_matrix(y_test, train_predictions))\n",
    "    print(\"log_loss: \\n\",log_loss(y_test, train_predictions))\n",
    "    log_entry = pd.DataFrame([[name, acc*100,precision_score(y_test, train_predictions), f1_score(y_test, train_predictions), log_loss( y_test, train_predictions)]], columns=log_cols)\n",
    "    log = log.append(log_entry)\n",
    "except Exception as e:\n",
    "    print (e)"
   ]
  },
  {
   "cell_type": "code",
   "execution_count": 24,
   "metadata": {},
   "outputs": [
    {
     "data": {
      "image/png": "[encoded data removed]",
      "text/plain": [
       "<Figure size 432x288 with 1 Axes>"
      ]
     },
     "metadata": {
      "needs_background": "light"
     },
     "output_type": "display_data"
    },
    {
     "data": {
      "image/png": "[encoded data removed]",
      "text/plain": [
       "<Figure size 432x288 with 1 Axes>"
      ]
     },
     "metadata": {
      "needs_background": "light"
     },
     "output_type": "display_data"
    },
    {
     "data": {
      "image/png": "[encoded data removed]",
      "text/plain": [
       "<Figure size 432x288 with 1 Axes>"
      ]
     },
     "metadata": {
      "needs_background": "light"
     },
     "output_type": "display_data"
    },
    {
     "data": {
      "image/png": "[encoded data removed]",
      "text/plain": [
       "<Figure size 432x288 with 1 Axes>"
      ]
     },
     "metadata": {
      "needs_background": "light"
     },
     "output_type": "display_data"
    }
   ],
   "source": [
    "sns.set_color_codes(\"muted\")\n",
    "sns.barplot(x='Accuracy', y='Classifier', data=log, color=\"b\")\n",
    "\n",
    "plt.xlabel('Accuracy %')\n",
    "plt.title('Classifier Accuracy')\n",
    "plt.show()\n",
    "\n",
    "sns.set_color_codes(\"muted\")\n",
    "sns.barplot(x='Precision Score', y='Classifier', data=log, color=\"r\")\n",
    "\n",
    "plt.xlabel('Precision Score')\n",
    "plt.title('Classifier Precision Score')\n",
    "plt.show()\n",
    "\n",
    "sns.set_color_codes(\"muted\")\n",
    "sns.barplot(x='F1 Score', y='Classifier', data=log, color=\"c\")\n",
    "\n",
    "plt.xlabel('F1 Score')\n",
    "plt.title('Classifier F1 Score')\n",
    "plt.show()\n",
    "\n",
    "sns.set_color_codes(\"muted\")\n",
    "sns.barplot(x='Log Loss', y='Classifier', data=log, color=\"g\")\n",
    "\n",
    "plt.xlabel('Log Loss')\n",
    "plt.title('Classifier Log Loss')\n",
    "plt.show()"
   ]
  },
  {
   "cell_type": "markdown",
   "metadata": {},
   "source": [
    "# Thank You"
   ]
  }
 ],
 "metadata": {
  "colab": {
   "collapsed_sections": [],
   "name": "Kidney_disease 20th june.ipynb",
   "provenance": []
  },
  "kernelspec": {
   "display_name": "Python 3",
   "language": "python",
   "name": "python3"
  },
  "language_info": {
   "codemirror_mode": {
    "name": "ipython",
    "version": 3
   },
   "file_extension": ".py",
   "mimetype": "text/x-python",
   "name": "python",
   "nbconvert_exporter": "python",
   "pygments_lexer": "ipython3",
   "version": "3.7.3"
  }
 },
 "nbformat": 4,
 "nbformat_minor": 1
}
